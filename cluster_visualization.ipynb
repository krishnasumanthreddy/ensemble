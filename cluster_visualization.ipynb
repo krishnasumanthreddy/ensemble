{
 "cells": [
  {
   "cell_type": "code",
   "execution_count": 16,
   "metadata": {},
   "outputs": [],
   "source": [
    "import numpy as np\n",
    "from sklearn import preprocessing,cross_validation,neighbors\n",
    "import pandas as pd\n",
    "from sklearn import cluster, svm\n",
    "from __future__ import division\n",
    "from collections import Counter\n",
    "from sklearn.decomposition import PCA\n",
    "from sklearn.preprocessing import StandardScaler\n",
    "from sklearn import metrics\n",
    "from sklearn.model_selection import train_test_split\n",
    "import matplotlib.cm as cm\n",
    "import operator"
   ]
  },
  {
   "cell_type": "code",
   "execution_count": 17,
   "metadata": {},
   "outputs": [],
   "source": [
    "df=pd.read_csv('e-nose-dataset.csv',nrows=879)\n",
    "df.drop(['minute'],axis=1,inplace=True)\n",
    "df.replace(to_replace='good',value='acceptable',inplace=True)\n",
    "\n",
    "df.replace(to_replace=['spoiled','acceptable','excellent'], value=[3,2,1],inplace=True)\n",
    "X=np.array(df.drop(['class'],1))\n",
    "y=np.array(df['class'])\n",
    "\n",
    "#splitting into to test and train\n",
    "X_train, X_test, y_train, y_test = train_test_split(\n",
    "    X, y, test_size=0.2, random_state=0)\n",
    "\n",
    "#Standardizing the data\n",
    "scaler = StandardScaler()\n",
    "scaler.fit(X_train)\n",
    "X_train=scaler.transform(X_train)\n",
    "X_test=scaler.transform(X_test)\n",
    "X = scaler.transform(X)\n",
    "\n",
    "#decomposition using pca\n",
    "pca = PCA(n_components=2)\n",
    "pca.fit(X_train)\n",
    "\n",
    "\n",
    "X_train = pca.transform(X_train)\n",
    "X_test = pca.transform(X_test)\n",
    "X = pca.transform(X)\n"
   ]
  },
  {
   "cell_type": "code",
   "execution_count": 18,
   "metadata": {},
   "outputs": [
    {
     "data": {
      "text/plain": [
       "0.97581792318634419"
      ]
     },
     "execution_count": 18,
     "metadata": {},
     "output_type": "execute_result"
    }
   ],
   "source": [
    "svm_clf = svm.SVC()\n",
    "svm_clf.fit(X_test,y_test)\n",
    "svm_clf.score(X_train,y_train)"
   ]
  },
  {
   "cell_type": "code",
   "execution_count": 19,
   "metadata": {},
   "outputs": [
    {
     "data": {
      "text/html": [
       "<div>\n",
       "<style scoped>\n",
       "    .dataframe tbody tr th:only-of-type {\n",
       "        vertical-align: middle;\n",
       "    }\n",
       "\n",
       "    .dataframe tbody tr th {\n",
       "        vertical-align: top;\n",
       "    }\n",
       "\n",
       "    .dataframe thead th {\n",
       "        text-align: right;\n",
       "    }\n",
       "</style>\n",
       "<table border=\"1\" class=\"dataframe\">\n",
       "  <thead>\n",
       "    <tr style=\"text-align: right;\">\n",
       "      <th></th>\n",
       "      <th>principal component 1</th>\n",
       "      <th>principal component 2</th>\n",
       "      <th>class</th>\n",
       "    </tr>\n",
       "  </thead>\n",
       "  <tbody>\n",
       "    <tr>\n",
       "      <th>0</th>\n",
       "      <td>-4.651110</td>\n",
       "      <td>2.422789</td>\n",
       "      <td>1</td>\n",
       "    </tr>\n",
       "    <tr>\n",
       "      <th>1</th>\n",
       "      <td>5.623056</td>\n",
       "      <td>3.034022</td>\n",
       "      <td>3</td>\n",
       "    </tr>\n",
       "    <tr>\n",
       "      <th>2</th>\n",
       "      <td>-0.837238</td>\n",
       "      <td>-2.026126</td>\n",
       "      <td>2</td>\n",
       "    </tr>\n",
       "    <tr>\n",
       "      <th>3</th>\n",
       "      <td>0.481205</td>\n",
       "      <td>-1.601051</td>\n",
       "      <td>2</td>\n",
       "    </tr>\n",
       "    <tr>\n",
       "      <th>4</th>\n",
       "      <td>0.620752</td>\n",
       "      <td>-1.520336</td>\n",
       "      <td>2</td>\n",
       "    </tr>\n",
       "  </tbody>\n",
       "</table>\n",
       "</div>"
      ],
      "text/plain": [
       "   principal component 1  principal component 2  class\n",
       "0              -4.651110               2.422789      1\n",
       "1               5.623056               3.034022      3\n",
       "2              -0.837238              -2.026126      2\n",
       "3               0.481205              -1.601051      2\n",
       "4               0.620752              -1.520336      2"
      ]
     },
     "execution_count": 19,
     "metadata": {},
     "output_type": "execute_result"
    }
   ],
   "source": [
    "principalDf = pd.DataFrame(data = X_train\n",
    "             , columns = ['principal component 1', 'principal component 2'])\n",
    "target = pd.DataFrame(data=y_train , columns = ['class'])\n",
    "principalDf.head()\n",
    "finalDf = pd.concat([principalDf, target[['class']]], axis = 1)\n",
    "finalDf.head()"
   ]
  },
  {
   "cell_type": "code",
   "execution_count": 20,
   "metadata": {},
   "outputs": [
    {
     "data": {
      "image/png": "[encoded data removed]",
      "text/plain": [
       "<matplotlib.figure.Figure at 0xeccc2b0>"
      ]
     },
     "metadata": {},
     "output_type": "display_data"
    }
   ],
   "source": [
    "import matplotlib.pyplot as plt\n",
    "fig = plt.figure(figsize = (8,8))\n",
    "ax = fig.add_subplot(1,1,1) \n",
    "ax.set_xlabel('Principal Component 1', fontsize = 15)\n",
    "ax.set_ylabel('Principal Component 2', fontsize = 15)\n",
    "ax.set_title('2 component PCA', fontsize = 20)\n",
    "targets = [3, 2, 1]\n",
    "colors = ['r', 'g', 'b']\n",
    "for target, color in zip(targets,colors):\n",
    "    indicesToKeep = finalDf['class'] == target\n",
    "    ax.scatter(finalDf.loc[indicesToKeep, 'principal component 1']\n",
    "               , finalDf.loc[indicesToKeep, 'principal component 2']\n",
    "               , c = color\n",
    "               , s = 50)\n",
    "ax.legend(targets)\n",
    "ax.grid()"
   ]
  },
  {
   "cell_type": "markdown",
   "metadata": {},
   "source": [
    "# plotting the outputs of various clustering algorithms"
   ]
  },
  {
   "cell_type": "markdown",
   "metadata": {},
   "source": [
    "### kmeans"
   ]
  },
  {
   "cell_type": "code",
   "execution_count": 21,
   "metadata": {},
   "outputs": [
    {
     "data": {
      "text/plain": [
       "array([[-0.52043282, -1.9341    ],\n",
       "       [ 3.84393737,  1.88982564],\n",
       "       [-4.3960036 ,  2.09286698],\n",
       "       [ 1.31859439, -0.94597872],\n",
       "       [ 5.26404375,  2.81215042],\n",
       "       [ 0.53148799, -1.42774217],\n",
       "       [-1.70354021, -1.81326156],\n",
       "       [ 2.50412033,  0.29139911]])"
      ]
     },
     "execution_count": 21,
     "metadata": {},
     "output_type": "execute_result"
    }
   ],
   "source": [
    "k_mean_cls = cluster.KMeans()\n",
    "k_mean_cls.fit(X_train)\n",
    "km_op_arr = k_mean_cls.fit_predict(X_train)\n",
    "target = pd.DataFrame(data=km_op_arr , columns = ['km_op'])\n",
    "finalDf = pd.concat([principalDf, target[['km_op']]], axis = 1)\n",
    "finalDf.head()\n",
    "k_mean_cls.cluster_centers_"
   ]
  },
  {
   "cell_type": "code",
   "execution_count": 22,
   "metadata": {},
   "outputs": [],
   "source": [
    "label_ind_dict = finalDf.groupby('km_op').groups\n",
    "label_li=finalDf.groupby('km_op').groups.keys()\n",
    "actual_lab_dict={}\n",
    "\n",
    "for i in range(len(label_li)):\n",
    "    index_lis=label_ind_dict[i]\n",
    "    freq_dict={}\n",
    "    for j in range(len(index_lis)):\n",
    "        inp = np.zeros((1,2))\n",
    "        inp[0][0] = finalDf.loc[index_lis[j],'principal component 1']\n",
    "        inp[0][1] = finalDf.loc[index_lis[j],'principal component 2']\n",
    "        op = svm_clf.predict(inp)\n",
    "        if op[0] in  freq_dict:\n",
    "            freq_dict[op[0]] = freq_dict[op[0]] + 1\n",
    "        else:\n",
    "            freq_dict[op[0]] = 1\n",
    "        #highest frequency\n",
    "    actual_lab_dict[label_li[i]] = max(freq_dict.iteritems(), key=operator.itemgetter(1))[0]\n",
    "        \n",
    "        "
   ]
  },
  {
   "cell_type": "code",
   "execution_count": 23,
   "metadata": {},
   "outputs": [
    {
     "data": {
      "image/png": "[encoded data removed]",
      "text/plain": [
       "<matplotlib.figure.Figure at 0xecba668>"
      ]
     },
     "metadata": {},
     "output_type": "display_data"
    }
   ],
   "source": [
    "import matplotlib.pyplot as plt\n",
    "fig = plt.figure(figsize = (8,8))\n",
    "ax = fig.add_subplot(1,1,1) \n",
    "ax.set_xlabel('Principal Component 1', fontsize = 15)\n",
    "ax.set_ylabel('Principal Component 2', fontsize = 15)\n",
    "ax.set_title('K-MEANS', fontsize = 20)\n",
    "targets = [0, 1, 2, 3, 4, 5, 6, 7]\n",
    "colors = cm.rainbow(np.linspace(0, 1, len(targets)))\n",
    "#colors = ['r', 'g', 'b' , 'y' , 'o' , 'v' , 'p' , 'm']\n",
    "for target, color in zip(targets,colors):\n",
    "    indicesToKeep = finalDf['km_op'] == target\n",
    "    ax.scatter(finalDf.loc[indicesToKeep, 'principal component 1']\n",
    "               , finalDf.loc[indicesToKeep, 'principal component 2']\n",
    "               , c = color\n",
    "               , s = 50)\n",
    "ax.legend(targets)\n",
    "ax.grid()"
   ]
  },
  {
   "cell_type": "code",
   "execution_count": 24,
   "metadata": {},
   "outputs": [
    {
     "data": {
      "text/plain": [
       "{0L: 2, 1L: 3, 2L: 1, 3L: 2, 4L: 3, 5L: 2, 6L: 1, 7L: 3}"
      ]
     },
     "execution_count": 24,
     "metadata": {},
     "output_type": "execute_result"
    }
   ],
   "source": [
    "actual_lab_dict"
   ]
  },
  {
   "cell_type": "code",
   "execution_count": 25,
   "metadata": {},
   "outputs": [
    {
     "data": {
      "text/plain": [
       "0.9800853485064012"
      ]
     },
     "execution_count": 25,
     "metadata": {},
     "output_type": "execute_result"
    }
   ],
   "source": [
    "solDf = finalDf.replace(actual_lab_dict)\n",
    "op=np.array(solDf['km_op'])\n",
    "perc=0\n",
    "for i in range(len(op)):\n",
    "    if op[i]==y_train[i]:\n",
    "        perc=perc+1\n",
    "    \n",
    "\n",
    "\n",
    "perc=perc/len(op) \n",
    "perc       "
   ]
  },
  {
   "cell_type": "markdown",
   "metadata": {},
   "source": [
    "### spectral clustering"
   ]
  },
  {
   "cell_type": "code",
   "execution_count": 12,
   "metadata": {},
   "outputs": [
    {
     "data": {
      "text/html": [
       "<div>\n",
       "<style scoped>\n",
       "    .dataframe tbody tr th:only-of-type {\n",
       "        vertical-align: middle;\n",
       "    }\n",
       "\n",
       "    .dataframe tbody tr th {\n",
       "        vertical-align: top;\n",
       "    }\n",
       "\n",
       "    .dataframe thead th {\n",
       "        text-align: right;\n",
       "    }\n",
       "</style>\n",
       "<table border=\"1\" class=\"dataframe\">\n",
       "  <thead>\n",
       "    <tr style=\"text-align: right;\">\n",
       "      <th></th>\n",
       "      <th>principal component 1</th>\n",
       "      <th>principal component 2</th>\n",
       "      <th>op</th>\n",
       "    </tr>\n",
       "  </thead>\n",
       "  <tbody>\n",
       "    <tr>\n",
       "      <th>0</th>\n",
       "      <td>-0.028421</td>\n",
       "      <td>-1.592013</td>\n",
       "      <td>2</td>\n",
       "    </tr>\n",
       "    <tr>\n",
       "      <th>1</th>\n",
       "      <td>-0.642982</td>\n",
       "      <td>-1.969405</td>\n",
       "      <td>2</td>\n",
       "    </tr>\n",
       "    <tr>\n",
       "      <th>2</th>\n",
       "      <td>1.777116</td>\n",
       "      <td>-0.563875</td>\n",
       "      <td>2</td>\n",
       "    </tr>\n",
       "    <tr>\n",
       "      <th>3</th>\n",
       "      <td>4.956237</td>\n",
       "      <td>2.656457</td>\n",
       "      <td>0</td>\n",
       "    </tr>\n",
       "    <tr>\n",
       "      <th>4</th>\n",
       "      <td>-0.546859</td>\n",
       "      <td>-1.928965</td>\n",
       "      <td>2</td>\n",
       "    </tr>\n",
       "  </tbody>\n",
       "</table>\n",
       "</div>"
      ],
      "text/plain": [
       "   principal component 1  principal component 2  op\n",
       "0              -0.028421              -1.592013   2\n",
       "1              -0.642982              -1.969405   2\n",
       "2               1.777116              -0.563875   2\n",
       "3               4.956237               2.656457   0\n",
       "4              -0.546859              -1.928965   2"
      ]
     },
     "execution_count": 12,
     "metadata": {},
     "output_type": "execute_result"
    }
   ],
   "source": [
    "spect_cls = cluster.SpectralClustering(n_clusters=3)\n",
    "spect_cls.fit(X_train)\n",
    "op_arr = spect_cls.fit_predict(X_train)\n",
    "target = pd.DataFrame(data=op_arr , columns = ['op'])\n",
    "finalDf = pd.concat([principalDf, target[['op']]], axis = 1)\n",
    "finalDf.head()"
   ]
  },
  {
   "cell_type": "code",
   "execution_count": 13,
   "metadata": {},
   "outputs": [
    {
     "data": {
      "image/png": "[encoded data removed]",
      "text/plain": [
       "<matplotlib.figure.Figure at 0xac1a908>"
      ]
     },
     "metadata": {},
     "output_type": "display_data"
    }
   ],
   "source": [
    "import matplotlib.pyplot as plt\n",
    "fig = plt.figure(figsize = (8,8))\n",
    "ax = fig.add_subplot(1,1,1) \n",
    "ax.set_xlabel('Principal Component 1', fontsize = 15)\n",
    "ax.set_ylabel('Principal Component 2', fontsize = 15)\n",
    "ax.set_title('SPECTRAL_CLS', fontsize = 20)\n",
    "targets = [0, 1, 2]\n",
    "colors = ['r', 'g', 'b']\n",
    "for target, color in zip(targets,colors):\n",
    "    indicesToKeep = finalDf['op'] == target\n",
    "    ax.scatter(finalDf.loc[indicesToKeep, 'principal component 1']\n",
    "               , finalDf.loc[indicesToKeep, 'principal component 2']\n",
    "               , c = color\n",
    "               , s = 50)\n",
    "ax.legend(targets)\n",
    "ax.grid()"
   ]
  },
  {
   "cell_type": "code",
   "execution_count": 14,
   "metadata": {},
   "outputs": [
    {
     "ename": "NameError",
     "evalue": "name 'arr' is not defined",
     "output_type": "error",
     "traceback": [
      "\u001b[1;31m\u001b[0m",
      "\u001b[1;31mNameError\u001b[0mTraceback (most recent call last)",
      "\u001b[1;32m<ipython-input-14-e1483d9e89a2>\u001b[0m in \u001b[0;36m<module>\u001b[1;34m()\u001b[0m\n\u001b[1;32m----> 1\u001b[1;33m \u001b[0marr\u001b[0m\u001b[1;33m\u001b[0m\u001b[0m\n\u001b[0m",
      "\u001b[1;31mNameError\u001b[0m: name 'arr' is not defined"
     ]
    }
   ],
   "source": [
    "arr"
   ]
  },
  {
   "cell_type": "code",
   "execution_count": null,
   "metadata": {},
   "outputs": [],
   "source": [
    "arr1 = k_mean_cls.fit_predict(X[700:800])\n",
    "arr1"
   ]
  },
  {
   "cell_type": "markdown",
   "metadata": {},
   "source": [
    "### train a supervised learning classifier"
   ]
  },
  {
   "cell_type": "code",
   "execution_count": null,
   "metadata": {},
   "outputs": [],
   "source": [
    "svm_clf.predict(k_mean_cls.cluster_centers_)"
   ]
  },
  {
   "cell_type": "code",
   "execution_count": 15,
   "metadata": {},
   "outputs": [
    {
     "data": {
      "text/plain": [
       "0.4482366325369738"
      ]
     },
     "execution_count": 15,
     "metadata": {},
     "output_type": "execute_result"
    }
   ],
   "source": [
    "arr = spect_cls.fit_predict(X[0:879])\n",
    "arr1 = svm_clf.predict(X[0:879])\n",
    "change={ 0:2, 1:3 , 2:1}\n",
    "\n",
    "def change_lab(x):\n",
    "    y=change[x]\n",
    "    return y\n",
    "\n",
    "for i in range(len(arr)):\n",
    "    arr[i]=change_lab(arr[i])\n",
    "    \n",
    "perc=0\n",
    "for i in range(len(arr)):\n",
    "    if arr[i]==y[i]:\n",
    "        perc=perc+1\n",
    "    \n",
    "\n",
    "\n",
    "perc=perc/len(arr) \n",
    "perc       "
   ]
  },
  {
   "cell_type": "code",
   "execution_count": null,
   "metadata": {},
   "outputs": [],
   "source": []
  },
  {
   "cell_type": "code",
   "execution_count": null,
   "metadata": {},
   "outputs": [],
   "source": []
  }
 ],
 "metadata": {
  "kernelspec": {
   "display_name": "Python 2",
   "language": "python",
   "name": "python2"
  },
  "language_info": {
   "codemirror_mode": {
    "name": "ipython",
    "version": 2
   },
   "file_extension": ".py",
   "mimetype": "text/x-python",
   "name": "python",
   "nbconvert_exporter": "python",
   "pygments_lexer": "ipython2",
   "version": "2.7.14"
  }
 },
 "nbformat": 4,
 "nbformat_minor": 2
}
